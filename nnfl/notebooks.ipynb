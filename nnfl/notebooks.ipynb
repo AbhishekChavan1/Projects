{
  "nbformat": 4,
  "nbformat_minor": 0,
  "metadata": {
    "colab": {
      "provenance": []
    },
    "kernelspec": {
      "name": "python3",
      "display_name": "Python 3"
    },
    "language_info": {
      "name": "python"
    }
  },
  "cells": [
    {
      "cell_type": "code",
      "source": [
        "import pandas as pd\n",
        "import numpy as np\n",
        "from tensorflow.keras.models import Sequential\n",
        "import tensorflow as tf\n",
        "import keras\n",
        "from keras import layers\n",
        "from tensorflow.keras.layers import LSTM\n",
        "from keras.layers import Activation, Dense\n",
        "from tensorflow.keras.models import *\n",
        "from sklearn.metrics import mean_squared_error\n",
        "from sklearn.model_selection import train_test_split\n",
        "from sklearn.metrics import mean_absolute_percentage_error\n",
        "from sklearn.metrics import mean_squared_error\n",
        "from sklearn.metrics import mean_absolute_error\n",
        "from tensorflow. keras . callbacks import EarlyStopping\n",
        "import matplotlib.dates as mdates\n",
        "import matplotlib.pyplot as plt\n",
        "import datetime as dt"
      ],
      "metadata": {
        "id": "mLiWuAXIKbZo"
      },
      "execution_count": null,
      "outputs": []
    },
    {
      "cell_type": "code",
      "execution_count": null,
      "metadata": {
        "id": "vGIfvGppIPn2"
      },
      "outputs": [],
      "source": [
        "stock_data= pd.read_csv('Nifty50.csv' ,index_col='Date ')\n",
        "stock_data.head(3)\n",
        "stock_data.dropna(inplace=True)"
      ]
    },
    {
      "cell_type": "code",
      "source": [
        "stock_data.index = pd.to_datetime(stock_data.index)\n",
        "# Plot the High and Low columns\n",
        "plt.figure(figsize=(15, 10))\n",
        "plt.gca().xaxis.set_major_formatter(mdates.DateFormatter('%Y-%m-%d'))\n",
        "plt.gca().xaxis.set_major_locator(mdates.DayLocator(interval=60))\n",
        "x_dates = stock_data.index.date\n",
        "\n",
        "plt.plot(x_dates, stock_data['High'], label='High')\n",
        "plt.plot(x_dates, stock_data['Low'], label='Low')\n",
        "plt.xlabel('Time Scale')\n",
        "plt.ylabel('scaled USD')\n",
        "plt.legend()\n",
        "plt.gcf().autofmt_xdate()\n",
        "plt.show()"
      ],
      "metadata": {
        "id": "nRJNvDmqIiVS"
      },
      "execution_count": null,
      "outputs": []
    },
    {
      "cell_type": "code",
      "source": [
        "target_y=stock_data['Close']\n",
        "X_feat=stock_data.iloc[:,0:3]"
      ],
      "metadata": {
        "id": "EeisUy2tIiX_"
      },
      "execution_count": null,
      "outputs": []
    },
    {
      "cell_type": "code",
      "source": [
        "from sklearn.preprocessing import StandardScaler\n",
        "sc = StandardScaler()\n",
        "X_ft=sc.fit_transform(X_feat.values)\n",
        "X_ft=pd.DataFrame(columns=X_feat.columns,data=X_ft,index=X_feat.index)"
      ],
      "metadata": {
        "id": "y4dbBKosIia9"
      },
      "execution_count": null,
      "outputs": []
    },
    {
      "cell_type": "code",
      "source": [
        "def lstm_split(data,n_steps):\n",
        "  X,y=[],[]\n",
        "  for i in range(len(data)-n_steps+1):\n",
        "    X.append(data[i:i + n_steps,:-1])\n",
        "    y. append(data[i + n_steps-1,-1])\n",
        "  return np.array(X), np.array(y)"
      ],
      "metadata": {
        "id": "WLppM-k3Iid2"
      },
      "execution_count": null,
      "outputs": []
    },
    {
      "cell_type": "code",
      "source": [
        "X1,y1=lstm_split(stock_data.values, n_steps=2)\n",
        "\n",
        "train_split=0.8\n",
        "split_idx=int(np.ceil(len(X1)*train_split))\n",
        "date_index=stock_data.index\n",
        "\n",
        "X_train,X_test=X1[:split_idx],X1[split_idx:]\n",
        "y_train,y_test=y1[:split_idx],y1[split_idx:]\n",
        "X_train_date,X_test_date=date_index[split_idx:],date_index[split_idx:]\n",
        "print(X1.shape,X_train.shape,X_test.shape,y_test.shape)"
      ],
      "metadata": {
        "id": "Pk4RPwTAIigy"
      },
      "execution_count": null,
      "outputs": []
    },
    {
      "cell_type": "code",
      "source": [
        "lstm = Sequential()\n",
        "lstm.add(LSTM(32, input_shape=(X_train.shape[1], X_train.shape[2]),\n",
        "              activation='relu',return_sequences=True))\n",
        "lstm.add(Dense(40,activation='relu'))\n",
        "lstm.add(Dense(80,activation='relu'))\n",
        "lstm.add(Dense(40,activation='relu'))\n",
        "lstm.add(Dense(1))\n",
        "lstm.compile(loss='mean_absolute_error',optimizer='adam')\n",
        "lstm.summary()"
      ],
      "metadata": {
        "id": "8t_o1rgIIikG"
      },
      "execution_count": null,
      "outputs": []
    },
    {
      "cell_type": "code",
      "source": [
        "history=lstm.fit(X_train,y_train,epochs=500,batch_size=10,verbose=2,shuffle=False)"
      ],
      "metadata": {
        "id": "ZjC31srQRsSW"
      },
      "execution_count": null,
      "outputs": []
    },
    {
      "cell_type": "code",
      "source": [
        "plt.plot(history.history['loss'])\n",
        "plt.title('Model Loss')\n",
        "plt.ylabel('Loss')\n",
        "plt.xlabel('Epoch')\n",
        "plt.show()"
      ],
      "metadata": {
        "id": "7qOWrXptSmiO"
      },
      "execution_count": null,
      "outputs": []
    },
    {
      "cell_type": "code",
      "source": [
        "y_pred=lstm.predict(X_test)"
      ],
      "metadata": {
        "id": "XxXGrBgZSCxV"
      },
      "execution_count": null,
      "outputs": []
    },
    {
      "cell_type": "code",
      "source": [
        "# prompt: create graph of predicted values vs real values\n",
        "y_pred_r = y_pred[:, 0, 0]\n",
        "plt.figure(figsize=(15, 10))\n",
        "plt.gca().xaxis.set_major_formatter(mdates.DateFormatter('%Y-%m-%d'))\n",
        "plt.gca().xaxis.set_major_locator(mdates.DayLocator(interval=60))\n",
        "x_dates = X_test_date\n",
        "plt.plot(x_dates[:410], y_pred_r[:410], label='Predicted')\n",
        "plt.plot(x_dates, y_test, label='Real')\n",
        "plt.xlabel('Time Scale')\n",
        "plt.ylabel('USD')\n",
        "plt.legend()\n",
        "plt.gcf().autofmt_xdate()\n",
        "plt.show()"
      ],
      "metadata": {
        "id": "QdtZZX0HSCVG"
      },
      "execution_count": null,
      "outputs": []
    },
    {
      "cell_type": "code",
      "source": [
        "date_input = input('Enter a date in YYYY-MM-DD format: ')\n",
        "date_input = dt.datetime.strptime(date_input, '%Y-%m-%d')\n",
        "date_index = stock_data.index.get_loc(date_input)\n",
        "X_input = X_feat.iloc[date_index]\n",
        "X_input = sc.transform(np.array(X_input).reshape(1, -1))\n",
        "X_input = np.array(X_input).reshape(1, 2, 3)\n",
        "y_pred = lstm.predict(X_input)\n",
        "predicted_price = y_pred[0, 0, 0]\n",
        "print(f\"Predicted price for {date_input}: {predicted_price}\")"
      ],
      "metadata": {
        "id": "Y3kGQ5LwzoIa"
      },
      "execution_count": null,
      "outputs": []
    },
    {
      "cell_type": "code",
      "source": [],
      "metadata": {
        "id": "2-kKgIY00H3M"
      },
      "execution_count": null,
      "outputs": []
    },
    {
      "cell_type": "code",
      "source": [],
      "metadata": {
        "id": "jx7r5h_B0Hzz"
      },
      "execution_count": null,
      "outputs": []
    }
  ]
}